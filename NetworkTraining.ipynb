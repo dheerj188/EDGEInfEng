{
 "cells": [
  {
   "attachments": {},
   "cell_type": "markdown",
   "id": "e8b77197",
   "metadata": {},
   "source": [
    "<img src = \"../PES.jpeg\" alt=\"PES\" class=\"bg-primary\" height= \"75px\" width=\"50px\" align = \"left\">\n",
    "\n",
    "<img src = \"../CIE.jpeg\" alt=\"CIE\" class=\"bg-primary\"  height= \"100px\" width=\"200px\" align = \"right\">\n",
    "\n"
   ]
  },
  {
   "cell_type": "markdown",
   "id": "3067aed0",
   "metadata": {},
   "source": [
    "&copy; Center For Innovation and Entrepreneurship, PES University\n",
    "\n",
    "Author: Dheemanth R Joshi\n",
    "\n",
    "Research Assistant, CIE PES University\n"
   ]
  },
  {
   "cell_type": "code",
   "execution_count": 1,
   "id": "4fb2bf87",
   "metadata": {},
   "outputs": [],
   "source": [
    "\"\"\"for arrays\"\"\"\n",
    "\n",
    "import numpy as np \n",
    "\n",
    "\"\"\"for plotting images\"\"\"\n",
    "\n",
    "import matplotlib.pyplot as plt \n",
    "\n",
    "\"\"\"Parent Library of the PyTorch Framework\"\"\"\n",
    "\n",
    "import torch \n",
    "\n",
    "\"\"\"Neural Network library of the pytorch module\"\"\"\n",
    "\n",
    "import torch.nn as nn \n",
    "\n",
    "\"\"\"Torch Dataset Libraries\"\"\"\n",
    "\n",
    "import torchvision \n",
    "\n",
    "import torchvision.transforms as transforms \n",
    "\n",
    "from torch.utils.data import DataLoader"
   ]
  },
  {
   "cell_type": "code",
   "execution_count": 2,
   "id": "9b3514a7",
   "metadata": {},
   "outputs": [],
   "source": [
    "\"\"\"Trains Network on GPU if Available\"\"\"\n",
    "\n",
    "device = torch.device(\"cuda\" if torch.cuda.is_available() else \"cpu\") "
   ]
  },
  {
   "cell_type": "code",
   "execution_count": 3,
   "id": "5a25334c",
   "metadata": {},
   "outputs": [],
   "source": [
    "\"\"\"Network and training parameters for this dataset\"\"\"\n",
    "\n",
    "input_size= 784\n",
    "\n",
    "batch_size= 100 \n",
    "\n",
    "num_classes= 10 "
   ]
  },
  {
   "cell_type": "code",
   "execution_count": 4,
   "id": "99b74c1b",
   "metadata": {},
   "outputs": [],
   "source": [
    "\"\"\"import the MNIST Dataset and setup the dataloader\"\"\"\n",
    "\n",
    "train_dataset = torchvision.datasets.MNIST('./data', train = True, \n",
    "                                           transform= transforms.ToTensor(), download = True)\n",
    "\n",
    "test_dataset = torchvision.datasets.MNIST('./data', train = False, \n",
    "                                           transform= transforms.ToTensor())\n",
    "\n",
    "train_loader = DataLoader(dataset= train_dataset, batch_size=batch_size, shuffle = True)\n",
    "\n",
    "test_loader = DataLoader(dataset= test_dataset, batch_size=batch_size, shuffle = True)\n"
   ]
  },
  {
   "cell_type": "code",
   "execution_count": 5,
   "id": "83891db0",
   "metadata": {},
   "outputs": [
    {
     "data": {
      "text/plain": [
       "<matplotlib.image.AxesImage at 0x7fdbd8076d60>"
      ]
     },
     "execution_count": 5,
     "metadata": {},
     "output_type": "execute_result"
    },
    {
     "data": {
      "image/png": "[encoded data removed]",
      "text/plain": [
       "<Figure size 432x288 with 1 Axes>"
      ]
     },
     "metadata": {
      "needs_background": "light"
     },
     "output_type": "display_data"
    }
   ],
   "source": [
    "\"\"\"View the test dataset\"\"\"\n",
    "\n",
    "image_index = 4\n",
    "\n",
    "plt.imshow(test_dataset[image_index][0][0])"
   ]
  },
  {
   "cell_type": "code",
   "execution_count": 6,
   "id": "951a1610",
   "metadata": {},
   "outputs": [],
   "source": [
    "\"\"\"Save test image for inference\"\"\"\n",
    "\n",
    "test_image = test_dataset[image_index][0][0].numpy()\n",
    "\n",
    "np.savetxt(\"Desktop/TrainedNetwork/testimage.txt\", test_image)\n"
   ]
  },
  {
   "cell_type": "code",
   "execution_count": 7,
   "id": "de0fefb0",
   "metadata": {},
   "outputs": [],
   "source": [
    "\"\"\"Define the Neural Network Architecture\"\"\"\n",
    "\n",
    "class NeuralNet(nn.Module):\n",
    "    \n",
    "    def __init__(self, input_size, output_size):\n",
    "        \n",
    "        super(NeuralNet, self).__init__()\n",
    "        \n",
    "        self.InputLayer = nn.Linear(input_size, 100)\n",
    "        \n",
    "        self.relu = nn.ReLU()\n",
    "        \n",
    "        self.hl = nn.Linear(100, 100)\n",
    "        \n",
    "        self.OutputLayer = nn.Linear(100, output_size)\n",
    "        \n",
    "    def forward(self, x):\n",
    "        \n",
    "        response = self.InputLayer(x)\n",
    "        \n",
    "        response = self.relu(response)\n",
    "        \n",
    "        response = self.hl(response)\n",
    "        \n",
    "        response = self.relu(response)\n",
    "        \n",
    "        response = self.OutputLayer(response)\n",
    "        \n",
    "        return response \n",
    "        "
   ]
  },
  {
   "cell_type": "code",
   "execution_count": 8,
   "id": "47aca85f",
   "metadata": {},
   "outputs": [],
   "source": [
    "\"\"\"Training: Define Loss and Optimizer\"\"\"\n",
    "\n",
    "model = NeuralNet(input_size, num_classes)\n",
    "\n",
    "criterion = nn.CrossEntropyLoss()\n",
    "\n",
    "optimizer = torch.optim.Adam(model.parameters(), lr = 0.001)\n"
   ]
  },
  {
   "cell_type": "code",
   "execution_count": 9,
   "id": "e0529954",
   "metadata": {},
   "outputs": [],
   "source": [
    "\"\"\"Training Cond...\"\"\"\n",
    "\n",
    "epochs = 10\n",
    "\n",
    "n_total_steps = len(train_loader)\n",
    "\n",
    "for epoch in range(epochs):\n",
    "    \n",
    "    for i, (images, labels) in enumerate(train_loader):\n",
    "        \n",
    "        images = images.reshape(-1, 28*28).to(device)\n",
    "        \n",
    "        labels = labels.to(device)\n",
    "        \n",
    "        outs = model(images)\n",
    "        \n",
    "        loss = criterion(outs, labels)\n",
    "        \n",
    "        optimizer.zero_grad()\n",
    "        \n",
    "        loss.backward()\n",
    "        \n",
    "        optimizer.step()\n",
    "        \n",
    "        \"\"\"Remove comments to view the epoch v/s loss\"\"\"\n",
    "        \n",
    "        \"\"\"if((i+1)%100 == 0):\n",
    "            \n",
    "            print(f\"epoch{epoch+1}, step{i+1}, loss= {loss.item()}\")\"\"\""
   ]
  },
  {
   "cell_type": "code",
   "execution_count": 10,
   "id": "50c676aa",
   "metadata": {},
   "outputs": [
    {
     "name": "stdout",
     "output_type": "stream",
     "text": [
      "Accuracy = 97.46000000000001 %\n"
     ]
    }
   ],
   "source": [
    "\"\"\"Model Accuracy Testing\"\"\"\n",
    "\n",
    "with torch.no_grad():\n",
    "    \n",
    "    corrects = 0\n",
    "    \n",
    "    n_samples = 0 \n",
    "    \n",
    "    for i, (images, labels) in enumerate(test_loader):\n",
    "        \n",
    "        images = images.reshape(-1, 28*28).to(device)\n",
    "        \n",
    "        labels = labels.to(device)\n",
    "        \n",
    "        outs = model(images)\n",
    "        \n",
    "        _, predicted = torch.max(outs, 1)\n",
    "        \n",
    "        n_samples += labels.size(0)\n",
    "        \n",
    "        corrects += (predicted == labels).sum().item()\n",
    "    \n",
    "    accuracy = 100.0 * (corrects/n_samples)\n",
    "    \n",
    "    print(f\"Accuracy = {accuracy} %\")"
   ]
  },
  {
   "cell_type": "code",
   "execution_count": 11,
   "id": "2ac34b54",
   "metadata": {},
   "outputs": [],
   "source": [
    "with torch.no_grad():\n",
    "    \n",
    "    input_layer_weights = model.InputLayer.weight.numpy()\n",
    "    \n",
    "    input_layer_biases = model.InputLayer.bias.numpy()\n",
    "    \n",
    "    hl_layer_weights = model.hl.weight.numpy()\n",
    "    \n",
    "    hl_layer_biases = model.hl.bias.numpy()\n",
    "    \n",
    "    output_layer_weights = model.OutputLayer.weight.numpy()\n",
    "    \n",
    "    output_layer_biases = model.OutputLayer.bias.numpy()\n",
    "    \n",
    "    np.savetxt(\"Desktop/TrainedNetwork/in_layer_weights.txt\", input_layer_weights)\n",
    "    \n",
    "    np.savetxt(\"Desktop/TrainedNetwork/in_layer_biases.txt\", input_layer_biases)\n",
    "    \n",
    "    np.savetxt(\"Desktop/TrainedNetwork/hl_layer_weights.txt\", hl_layer_weights)\n",
    "    \n",
    "    np.savetxt(\"Desktop/TrainedNetwork/hl_layer_biases.txt\", hl_layer_biases)\n",
    "    \n",
    "    np.savetxt(\"Desktop/TrainedNetwork/out_layer_weights.txt\", output_layer_weights)\n",
    "    \n",
    "    np.savetxt(\"Desktop/TrainedNetwork/out_layer_biases.txt\", output_layer_biases)\n",
    "  "
   ]
  }
 ],
 "metadata": {
  "kernelspec": {
   "display_name": "Python 3",
   "language": "python",
   "name": "python3"
  },
  "language_info": {
   "codemirror_mode": {
    "name": "ipython",
    "version": 3
   },
   "file_extension": ".py",
   "mimetype": "text/x-python",
   "name": "python",
   "nbconvert_exporter": "python",
   "pygments_lexer": "ipython3",
   "version": "3.8.8"
  }
 },
 "nbformat": 4,
 "nbformat_minor": 5
}
